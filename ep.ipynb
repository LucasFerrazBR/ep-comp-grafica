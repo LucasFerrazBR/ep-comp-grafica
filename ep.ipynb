{
 "cells": [
  {
   "cell_type": "code",
   "execution_count": 8,
   "metadata": {},
   "outputs": [],
   "source": [
    "import cv2\n",
    "import numpy as np"
   ]
  },
  {
   "cell_type": "code",
   "execution_count": 6,
   "metadata": {},
   "outputs": [],
   "source": [
    "video = cv2.VideoCapture('Sistemas Distribuídos – Aula 01 - Introdução aos Sistemas Distribuídos.mp4')"
   ]
  },
  {
   "cell_type": "code",
   "execution_count": 9,
   "metadata": {},
   "outputs": [],
   "source": [
    "while video.isOpened():\n",
    "    ret,frame = video.read()\n",
    "    gray = cv2.cvtColor(frame, cv2.COLOR_BGR2GRAY)\n",
    "    _, im_bw = cv2.threshold(gray, 128, 255, cv2.THRESH_BINARY)\n",
    "    kernel = cv2.getStructuringElement(cv2.MORPH_RECT, (6,6))\n",
    "    dilate = cv2.dilate(im_bw, kernel, iterations=5)\n",
    "    result = cv2.bitwise_xor(dilate, gray)\n",
    "    _, result_bw = cv2.threshold(result, 128, 255, cv2.THRESH_BINARY)\n",
    "    result = cv2.bitwise_not(result_bw)\n",
    "\n",
    "    cv2.imshow('Resultado', result)\n",
    "    if cv2.waitKey(10) & 0xFF == ord('q'):\n",
    "        break\n",
    "\n",
    "video.release()\n",
    "cv2.destroyAllWindows()"
   ]
  },
  {
   "cell_type": "code",
   "execution_count": null,
   "metadata": {},
   "outputs": [],
   "source": [
    "    #Guardado\n",
    "    \n",
    "    # im_bw = cv2.bitwise_not(im_bw)\n",
    "    # kernel = cv2.getStructuringElement(cv2.MORPH_RECT, (3,3))\n",
    "    # opening = cv2.morphologyEx(im_bw, cv2.MORPH_OPEN, kernel, iterations=4)\n",
    "    # kernel = np.ones((5,5),np.uint8)\n",
    "    #result = 255 - cv2.subtract(dilate, gray)\n",
    "        #result = cv2.subtract(result, gray)\n",
    "    #data = pytesseract.image_to_string(result, lang='eng',config='--psm 6')\n",
    "    #print(data)\n",
    "        #im_bw = cv2.adaptiveThreshold(gray,255,cv2.ADAPTIVE_THRESH_GAUSSIAN_C, cv2.THRESH_BINARY, 21, 10)"
   ]
  }
 ],
 "metadata": {
  "interpreter": {
   "hash": "2adcef65025017a28c8a8e125c00b146f28fabedf291ca46c1a4a0bfed978fa1"
  },
  "kernelspec": {
   "display_name": "Python 3.9.13 64-bit",
   "language": "python",
   "name": "python3"
  },
  "language_info": {
   "codemirror_mode": {
    "name": "ipython",
    "version": 3
   },
   "file_extension": ".py",
   "mimetype": "text/x-python",
   "name": "python",
   "nbconvert_exporter": "python",
   "pygments_lexer": "ipython3",
   "version": "3.9.13"
  },
  "orig_nbformat": 4
 },
 "nbformat": 4,
 "nbformat_minor": 2
}
